{
 "cells": [
  {
   "cell_type": "code",
   "execution_count": 4,
   "metadata": {
    "executionInfo": {
     "elapsed": 5,
     "status": "ok",
     "timestamp": 1710783185009,
     "user": {
      "displayName": "Aryan",
      "userId": "10390923603891022224"
     },
     "user_tz": -330
    },
    "id": "jaoT_7EsVGgJ"
   },
   "outputs": [],
   "source": [
    "#importing all the required libraries\n",
    "from keras.models import Sequential\n",
    "from keras.layers import Dense, Activation\n",
    "from keras.datasets import mnist\n",
    "from keras.optimizers import SGD, Adam\n",
    "from keras.metrics import Precision, F1Score\n",
    "import tensorflow as tf\n",
    "import numpy as np"
   ]
  },
  {
   "cell_type": "code",
   "execution_count": 2,
   "metadata": {
    "colab": {
     "base_uri": "https://localhost:8080/"
    },
    "executionInfo": {
     "elapsed": 3454,
     "status": "ok",
     "timestamp": 1710783169296,
     "user": {
      "displayName": "Aryan",
      "userId": "10390923603891022224"
     },
     "user_tz": -330
    },
    "id": "Y3vy0yNqViDx",
    "outputId": "eccd89b5-eab7-4423-816c-310b4bcd5b7a"
   },
   "outputs": [
    {
     "name": "stdout",
     "output_type": "stream",
     "text": [
      "Downloading data from https://storage.googleapis.com/tensorflow/tf-keras-datasets/mnist.npz\n",
      "11490434/11490434 [==============================] - 0s 0us/step\n"
     ]
    }
   ],
   "source": [
    "#loading the mnist dataset and splitting it into training and test dataset\n",
    "(X_train, Y_train), (X_test, Y_test) = mnist.load_data()\n",
    "\n",
    "X_train = X_train.reshape((X_train.shape[0], 28*28)).astype('float32')/255\n",
    "X_test = X_test.reshape((X_test.shape[0], 28*28)).astype('float32')/255\n",
    "\n",
    "Y_train=tf.one_hot(Y_train, 10)\n",
    "Y_test=tf.one_hot(Y_test, 10)"
   ]
  },
  {
   "cell_type": "code",
   "execution_count": 7,
   "metadata": {
    "colab": {
     "base_uri": "https://localhost:8080/"
    },
    "executionInfo": {
     "elapsed": 16079,
     "status": "ok",
     "timestamp": 1710783248408,
     "user": {
      "displayName": "Aryan",
      "userId": "10390923603891022224"
     },
     "user_tz": -330
    },
    "id": "MBEjo2jJQ4uo",
    "outputId": "8dcd6a89-8f7a-49eb-9724-87e1928342a2"
   },
   "outputs": [
    {
     "name": "stdout",
     "output_type": "stream",
     "text": [
      "1875/1875 [==============================] - 15s 7ms/step - loss: 0.0105 - accuracy: 0.9318 - precision_1: 0.9550 - f1_score: 0.9310 - val_loss: 0.0061 - val_accuracy: 0.9601 - val_precision_1: 0.9670 - val_f1_score: 0.9599\n"
     ]
    },
    {
     "data": {
      "text/plain": [
       "<keras.src.callbacks.History at 0x7da36ea7ef80>"
      ]
     },
     "execution_count": 7,
     "metadata": {},
     "output_type": "execute_result"
    }
   ],
   "source": [
    "#defining the model\n",
    "model = Sequential([\n",
    "    Dense(256, activation = 'relu', input_shape = (784,)),\n",
    "    Dense(64, activation = 'relu'),\n",
    "    Dense(10, activation = 'softmax')\n",
    "])\n",
    "\n",
    "model.compile(optimizer = Adam (learning_rate = 0.001), loss = 'mean_squared_error', metrics = ['accuracy', Precision() , F1Score() ])\n",
    "model.fit(X_train, Y_train, epochs = 1, batch_size = 32, validation_data = (X_test,Y_test))"
   ]
  },
  {
   "cell_type": "code",
   "execution_count": 14,
   "metadata": {
    "colab": {
     "base_uri": "https://localhost:8080/"
    },
    "executionInfo": {
     "elapsed": 379,
     "status": "ok",
     "timestamp": 1710783440289,
     "user": {
      "displayName": "Aryan",
      "userId": "10390923603891022224"
     },
     "user_tz": -330
    },
    "id": "ouPQVqXnoqdF",
    "outputId": "407cd857-87b9-45e8-ef98-ccdd5b570d80"
   },
   "outputs": [
    {
     "name": "stdout",
     "output_type": "stream",
     "text": [
      "(784,)\n"
     ]
    }
   ],
   "source": [
    "print(X_test[2].shape)"
   ]
  }
 ],
 "metadata": {
  "colab": {
   "authorship_tag": "ABX9TyNMCY8IhjidVvioUMxhzdM+",
   "provenance": []
  },
  "kernelspec": {
   "display_name": "Python 3 (ipykernel)",
   "language": "python",
   "name": "python3"
  },
  "language_info": {
   "codemirror_mode": {
    "name": "ipython",
    "version": 3
   },
   "file_extension": ".py",
   "mimetype": "text/x-python",
   "name": "python",
   "nbconvert_exporter": "python",
   "pygments_lexer": "ipython3",
   "version": "3.8.10"
  }
 },
 "nbformat": 4,
 "nbformat_minor": 4
}
